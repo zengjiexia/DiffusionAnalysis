{
 "cells": [
  {
   "cell_type": "code",
   "execution_count": null,
   "metadata": {
    "scrolled": true
   },
   "outputs": [],
   "source": [
    "from __future__ import division, unicode_literals, print_function  # for compatibility with Python 2 and 3\n",
    "\n",
    "import matplotlib.pyplot as plt # matplotlib package for figure plotting\n",
    "import numpy as np # numpy package for array handling\n",
    "import pandas as pd # pandas package for dataframe handling\n",
    "import trackpy as tp # trackpy itself\n",
    "import tifffile as tiff # tifffile package for .tif file handling\n",
    "import os # os package for directory and file handling\n",
    "\n",
    "%matplotlib inline \n",
    "# this line allows us to plot inside the notebook"
   ]
  },
  {
   "cell_type": "code",
   "execution_count": null,
   "metadata": {
    "scrolled": true
   },
   "outputs": [],
   "source": [
    "img_path = os.getcwd() + 'filename.tif' # directory for the image file, \n",
    "                                        # just input the filename if it is placed in the same folder as this notbook\n",
    "img = tiff.imread(img_path)         # read the image into a 2d array\n",
    "plt.imshow(img[0])              # show the image, the number represents the number of frame\n",
    "plt.show()"
   ]
  },
  {
   "cell_type": "code",
   "execution_count": null,
   "metadata": {
    "scrolled": false
   },
   "outputs": [],
   "source": [
    "f = tp.locate(img[0], 21, invert=False, minmass=20)\n",
    "# locate the particle in a defined frame (change the number for different frame)\n",
    "# The number is the estimated size of particle.\n",
    "# The size must be an odd integer, and it is better to err on the large side.\n",
    "# invert=False means we are looking for bright spots instead of dark spots\n",
    "# see later for tuning the min mass\n",
    "\n",
    "# view locations of particle in the frame\n",
    "fig_location = tp.annotate(f, img[0]).get_figure()"
   ]
  },
  {
   "cell_type": "code",
   "execution_count": null,
   "metadata": {},
   "outputs": [],
   "source": [
    "# OPTIONAL\n",
    "# Can be used to tune the parameters\n",
    "\n",
    "# mass distribution \n",
    "fig, ax = plt.subplots()\n",
    "ax.hist(f['mass'], bins=20)\n",
    "# Optionally, label the axes.\n",
    "ax.set(xlabel='mass', ylabel='count')\n",
    "plt.show()\n",
    "# min mass can be tuned by changing the number in the particle localisation line"
   ]
  },
  {
   "cell_type": "code",
   "execution_count": null,
   "metadata": {},
   "outputs": [],
   "source": [
    "# OPTIONAL\n",
    "# Can be used to tune the parameters\n",
    "\n",
    "# calculate subpixel accuracy (expecting even distribution)\n",
    "subpx_bias_img = tp.subpx_bias(f)\n",
    "# We are looking for even distribution here\n",
    "# If we use a mask size that is too small, the histogram often shows a dip in the middle."
   ]
  },
  {
   "cell_type": "code",
   "execution_count": null,
   "metadata": {},
   "outputs": [],
   "source": [
    "f = tp.batch(img[:], 21, minmass=20, invert=False)\n",
    "# locate particles in mutiple frames\n",
    "# [:] means all frames.\n",
    "\n",
    "t = tp.link(f, 5, memory=3) \n",
    "# the 5 here is the maximal movement of the particle between frames\n",
    "# memory is the maximal frames allowed for missing particle\n",
    "\n",
    "t1 = tp.filter_stubs(t, 25) # Filter the by the minimal frames of a single track - set to 25 frames\n",
    "\n",
    "# Compare the number of particles in the unfiltered and filtered data.\n",
    "print('Before:', t['particle'].nunique())\n",
    "print('After:', t1['particle'].nunique())"
   ]
  },
  {
   "cell_type": "code",
   "execution_count": null,
   "metadata": {},
   "outputs": [],
   "source": [
    "fig_massTosize = tp.mass_size(t1.groupby('particle').mean()).get_figure() \n",
    "# convenience function -- just plots size vs. mass"
   ]
  },
  {
   "cell_type": "code",
   "execution_count": null,
   "metadata": {},
   "outputs": [],
   "source": [
    "# Plot trajaectories figure\n",
    "fig_traj = tp.plot_traj(t1).get_figure()"
   ]
  },
  {
   "cell_type": "code",
   "execution_count": null,
   "metadata": {},
   "outputs": [],
   "source": [
    "# Above are the explaination for the steps to locate particles\n",
    "# I will explain my automation below"
   ]
  },
  {
   "cell_type": "code",
   "execution_count": null,
   "metadata": {},
   "outputs": [],
   "source": [
    "# define a function for easier access\n",
    "def particle_count(img_path, p_size=21, min_mass=20, max_displace=5, max_miss=3, min_frame=25):\n",
    "    \"\"\"\n",
    "    This function summarise the process of locating particles. \n",
    "    *It also saves three figures to the same directory of image stack\n",
    "    \n",
    "    para - img_path: path for the .tif image stack\n",
    "    para - p-size: estimated particle size\n",
    "    para - min_mass: minimal mass for the particle\n",
    "    para - max_diplace: maximal movement allowed for particle between frames\n",
    "    para - max_miss: maximal no. of frames missing allowed\n",
    "    para - min_frame: minimal no. of frames needed for a particle to be valid\n",
    "    output - num_of_particle: no. of particles found\n",
    "    \"\"\"\n",
    "    img = tiff.imread(img_path)\n",
    "    f = tp.locate(img[0], p_size, invert=False)\n",
    "    \n",
    "    # plot the localisation of particles in the first frame\n",
    "    # and save the image with suffix of location\n",
    "    fig_location = tp.annotate(f, img[0]).get_figure()\n",
    "    fig_location.savefig(img_path.replace('.tif', '_location.png'))\n",
    "    \n",
    "    # process the stack\n",
    "    f = tp.batch(img[:], p_size, minmass=min_mass, invert=False);\n",
    "    t = tp.link(f, max_displace, memory=max_miss) \n",
    "    t1 = tp.filter_stubs(t, min_frame)\n",
    "    \n",
    "    print('Before:', t['particle'].nunique())\n",
    "    print('After:', t1['particle'].nunique())\n",
    "    num_of_particle = t1['particle'].nunique()\n",
    "    \n",
    "    if num_of_particle != 0:\n",
    "        # plot the mass vs. size distribution of particles\n",
    "        # and save the image with suffix of massTosize\n",
    "        fig_massTosize = tp.mass_size(t1.groupby('particle').mean()).get_figure()\n",
    "        fig_massTosize.savefig(img_path.replace('.tif', '_massTosize.png'))\n",
    "        \n",
    "        # plot the trajaectories\n",
    "        # and save the image with suffix of traj\n",
    "        fig_traj = tp.plot_traj(t1).get_figure()\n",
    "        fig_traj.savefig(img_path.replace('.tif', '_traj.png'))\n",
    "    \n",
    "    return num_of_particle"
   ]
  },
  {
   "cell_type": "code",
   "execution_count": null,
   "metadata": {},
   "outputs": [],
   "source": [
    "folder_path = r'C:\\Users\\zjxia\\Documents\\Work\\zx03_Matthew_Meeting\\ThT-Bilayer Data for analyses\\638\\20191106\\PiranhaSurface_1%_2'\n",
    "# path to the folder containing all images\n",
    "# containing subfolder won't disrupt the process\n",
    "\n",
    "output = {} # make a dictionary to contain the results\n",
    "\n",
    "# walk throught the folder to find all image stacks\n",
    "for r, d, f in os.walk(folder_path):\n",
    "    for name in f:\n",
    "        if name.endswith('.tif'): # filter any file that is not .tif file\n",
    "            sample_path = os.path.join(r, name)\n",
    "            # try to locate the particles in the stack\n",
    "            # if failed, set the result to be zero\n",
    "            try:\n",
    "                output[name.replace('_MMStack_Pos0.ome.tif', '')] = particle_count(sample_path)\n",
    "            except AttributeError or ValueError:\n",
    "                output[name.replace('_MMStack_Pos0.ome.tif', '')] = 0\n",
    "output # preview the results\n",
    "       # run next cell to save the results"
   ]
  },
  {
   "cell_type": "code",
   "execution_count": null,
   "metadata": {},
   "outputs": [],
   "source": [
    "df = pd.DataFrame.from_dict(output, orient ='index')\n",
    "df = df.reset_index()\n",
    "df.columns = ['name', 'count']\n",
    "df.to_csv(folder_path + '\\Summary.csv')"
   ]
  },
  {
   "cell_type": "code",
   "execution_count": null,
   "metadata": {},
   "outputs": [],
   "source": [
    "# Please let me know if there is anything not clear.\n",
    "# For further explaination, please refer to http://soft-matter.github.io/trackpy/dev/tutorial/walkthrough.html"
   ]
  }
 ],
 "metadata": {
  "kernelspec": {
   "display_name": "Python 3",
   "language": "python",
   "name": "python3"
  },
  "language_info": {
   "codemirror_mode": {
    "name": "ipython",
    "version": 3
   },
   "file_extension": ".py",
   "mimetype": "text/x-python",
   "name": "python",
   "nbconvert_exporter": "python",
   "pygments_lexer": "ipython3",
   "version": "3.6.8"
  }
 },
 "nbformat": 4,
 "nbformat_minor": 2
}
