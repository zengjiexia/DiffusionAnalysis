{
 "cells": [
  {
   "cell_type": "code",
   "execution_count": 4,
   "metadata": {},
   "outputs": [],
   "source": [
    "from __future__ import division, unicode_literals, print_function  # for compatibility with Python 2 and 3\n",
    "\n",
    "import matplotlib.pyplot as plt # matplotlib package for figure plotting\n",
    "import numpy as np # numpy package for array handling\n",
    "import pandas as pd # pandas package for dataframe handling\n",
    "import trackpy as tp # trackpy itself\n",
    "import tifffile as tiff # tifffile package for .tif file handling\n",
    "import os # os package for directory and file handling\n",
    "\n",
    "%matplotlib inline"
   ]
  },
  {
   "cell_type": "code",
   "execution_count": 5,
   "metadata": {},
   "outputs": [],
   "source": [
    "def particle_count(img_path):\n",
    "    img = tiff.imread(img_path)\n",
    "    f = tp.locate(img[0], 21, invert=False)\n",
    "    # f.head  # show a few rows of data\n",
    "    # get locations of particle in the first frame\n",
    "    fig_location = tp.annotate(f, img[0]).get_figure()\n",
    "    fig_location.savefig(img_path.replace('.tif', '_location.png'))\n",
    "    \n",
    "    # mass distribution \n",
    "    # fig, ax = plt.subplots()\n",
    "    # ax.hist(f['mass'], bins=20)\n",
    "    # Optionally, label the axes.\n",
    "    # ax.set(xlabel='mass', ylabel='count');\n",
    "    # fig.savefig(img_path.replace('.tif', '_mass.tif'))\n",
    "    # f = tp.locate(img[0], 23, invert=False, minmass=20) # threshold the min mass\n",
    "    \n",
    "    # calculate subpixel accuracy (expecting even distribution)\n",
    "    # subpx_bias_img = tp.subpx_bias(f)\n",
    "    # subpx_bias_img.savefig(img_path.replace('.tif', '_subpx'))\n",
    "    \n",
    "    f = tp.batch(img[:], 21, minmass=20, invert=False);\n",
    "    t = tp.link(f, 5, memory=3) # The maximal movement of the particle, memory is the maximal frames allowed for missing particle\n",
    "    # t.head()\n",
    "    t1 = tp.filter_stubs(t, 25) # Filter the by the minimal frames of a single track - set to 25 frames\n",
    "    # Compare the number of particles in the unfiltered and filtered data.\n",
    "    print('Before:', t['particle'].nunique())\n",
    "    print('After:', t1['particle'].nunique())\n",
    "    num_of_particle = t1['particle'].nunique()\n",
    "    \n",
    "    if num_of_particle != 0:\n",
    "        # Plot figure with mass against size\n",
    "        fig_massTosize = tp.mass_size(t1.groupby('particle').mean()).get_figure() # convenience function -- just plots size vs. mass\n",
    "        fig_massTosize.savefig(img_path.replace('.tif', '_massTosize.png'))\n",
    "\n",
    "        # Plot trajaectories figure\n",
    "        fig_traj = tp.plot_traj(t1).get_figure()\n",
    "        fig_traj.savefig(img_path.replace('.tif', '_traj.png'))\n",
    "    \n",
    "    return num_of_particle, t1['mass'].mean(), t1['size'].mean()"
   ]
  },
  {
   "cell_type": "code",
   "execution_count": 6,
   "metadata": {},
   "outputs": [],
   "source": [
    "def run_folder(folder_path):\n",
    "    output = {}\n",
    "    for r, d, f in os.walk(folder_path):\n",
    "        for name in f:\n",
    "            if name.endswith('.tif'):\n",
    "                sample_path = os.path.join(r, name)\n",
    "                try:\n",
    "                    output[name.replace('_MMStack_Pos0.ome.tif', '')] = particle_count(sample_path)\n",
    "                    print(output)\n",
    "                except AttributeError or ValueError:\n",
    "                    output[name.replace('_MMStack_Pos0.ome.tif', '')] = [0,0,0]\n",
    "                    \n",
    "    df = pd.DataFrame.from_dict(output, orient ='index')\n",
    "    df = df.reset_index()\n",
    "    df.columns = ['name', 'count', 'mean mass', 'mean size']\n",
    "    print(df)\n",
    "    df.to_csv(folder_path + '/Summary.csv')"
   ]
  },
  {
   "cell_type": "code",
   "execution_count": null,
   "metadata": {},
   "outputs": [],
   "source": [
    "path = \"/Volumes/Backup_Disk/CPGS_data/DOPC/AggConc\"\n",
    "for root, dirs, files in os.walk(path):\n",
    "    for name in dirs:\n",
    "        run_folder(os.path.join(root, name))"
   ]
  },
  {
   "cell_type": "code",
   "execution_count": null,
   "metadata": {},
   "outputs": [],
   "source": [
    "path = \"/Volumes/Backup_Disk/CPGS_data/POPC\"\n",
    "df = pd.DataFrame()\n",
    "for root, dirs, files in os.walk(path):\n",
    "    for name in files:\n",
    "        if name.endswith(\".csv\"):\n",
    "            dff = pd.read_csv(os.path.join(root, name))\n",
    "            df = pd.concat([df, dff])\n",
    "df.to_csv(path + '/Summary.csv')"
   ]
  },
  {
   "cell_type": "code",
   "execution_count": 8,
   "metadata": {},
   "outputs": [
    {
     "name": "stdout",
     "output_type": "stream",
     "text": [
      "Frame 299: 182 trajectories present.\n",
      "Before: 43383\n",
      "After: 0\n",
      "{'20191106_1%_2uM_ab_641_2': (303, 307967.8102837104, 4.47201329071633), '20191106_1%_2uM_blank_1': (277, 249356.61307057278, 4.824252415558049), '20191106_1%_2uM_blank_2': (261, 222751.1800296232, 4.904516858840342), '20191106_1%_2uM_ab_641_1': (196, 260990.97331262467, 4.840174252176646), '20191106_0%_2uM_ab_641_2': (129, 313008.2815687244, 4.938123300544988), '20191106_0%_2uM_ab_641_1': (120, 306608.4019317261, 5.126074966071061), '20191106_0%_2uM_blank_1': (0, nan, nan), '20191106_0%_2uM_blank_2': (0, nan, nan)}\n",
      "                       name  count      mean mass  mean size\n",
      "0  20191106_1%_2uM_ab_641_2    303  307967.810284   4.472013\n",
      "1   20191106_1%_2uM_blank_1    277  249356.613071   4.824252\n",
      "2   20191106_1%_2uM_blank_2    261  222751.180030   4.904517\n",
      "3  20191106_1%_2uM_ab_641_1    196  260990.973313   4.840174\n",
      "4  20191106_0%_2uM_ab_641_2    129  313008.281569   4.938123\n",
      "5  20191106_0%_2uM_ab_641_1    120  306608.401932   5.126075\n",
      "6   20191106_0%_2uM_blank_1      0            NaN        NaN\n",
      "7   20191106_0%_2uM_blank_2      0            NaN        NaN\n"
     ]
    }
   ],
   "source": [
    "path = \"/Volumes/Backup_Disk/CPGS_data/DOPC/Labelled\"\n",
    "run_folder(path)"
   ]
  },
  {
   "cell_type": "code",
   "execution_count": null,
   "metadata": {},
   "outputs": [],
   "source": []
  }
 ],
 "metadata": {
  "kernelspec": {
   "display_name": "Python 3",
   "language": "python",
   "name": "python3"
  },
  "language_info": {
   "codemirror_mode": {
    "name": "ipython",
    "version": 3
   },
   "file_extension": ".py",
   "mimetype": "text/x-python",
   "name": "python",
   "nbconvert_exporter": "python",
   "pygments_lexer": "ipython3",
   "version": "3.6.8"
  }
 },
 "nbformat": 4,
 "nbformat_minor": 4
}
